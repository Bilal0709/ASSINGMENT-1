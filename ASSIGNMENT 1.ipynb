{
 "cells": [
  {
   "cell_type": "code",
   "execution_count": null,
   "metadata": {},
   "outputs": [],
   "source": []
  },
  {
   "cell_type": "code",
   "execution_count": 1,
   "metadata": {},
   "outputs": [
    {
     "name": "stdout",
     "output_type": "stream",
     "text": [
      "\n",
      "Name: BILAL ABID\n",
      "Father Name: Sohail Mir\n",
      "University: Bahria University\n",
      "\n",
      "\n",
      "Name: MUHAMMAD QASIM\n",
      "Father Name: Junaid\n",
      "University: Bahria University\n",
      "\n",
      "\n",
      "Name: MUHAMMAD OWAIS\n",
      "Father Name: Sharoz\n",
      "University: Bahria University\n",
      "\n",
      "\n",
      "Name: MUHAMMAD Ali\n",
      "Father Name: Kashif\n",
      "University: Bahria University\n",
      "\n",
      "\n",
      "Name: MUHAMMD HASAN\n",
      "Father Name: Hammad\n",
      "University: Bahria University\n",
      "\n"
     ]
    }
   ],
   "source": [
    "# ASSIGNMENT\n",
    "\n",
    "name1 = \"BILAL ABID\"\n",
    "name2 = \"MUHAMMAD QASIM\"\n",
    "name3 = \"MUHAMMAD OWAIS\"\n",
    "name4 = \"MUHAMMAD Ali\"\n",
    "name5 = \"MUHAMMD HASAN\"\n",
    "\n",
    "father_name1 = \"Sohail Mir\"\n",
    "father_name2 = \"Junaid\"\n",
    "father_name3 = \"Sharoz\"\n",
    "father_name4 = \"Kashif\"\n",
    "father_name5 = \"Hammad\"\n",
    "\n",
    "university = \"Bahria University\"\n",
    "\n",
    "card1 = \"\"\"\n",
    "Name: {}\n",
    "Father Name: {}\n",
    "University: {}\n",
    "\"\"\".format(name1,father_name1,university)\n",
    "\n",
    "card2 = \"\"\"\n",
    "Name: {}\n",
    "Father Name: {}\n",
    "University: {}\n",
    "\"\"\".format(name2,father_name2,university)\n",
    "\n",
    "card3 = \"\"\"\n",
    "Name: {}\n",
    "Father Name: {}\n",
    "University: {}\n",
    "\"\"\".format(name3,father_name3,university)\n",
    "\n",
    "card4 = \"\"\"\n",
    "Name: {}\n",
    "Father Name: {}\n",
    "University: {}\n",
    "\"\"\".format(name4,father_name4,university)\n",
    "\n",
    "card5 = \"\"\"\n",
    "Name: {}\n",
    "Father Name: {}\n",
    "University: {}\n",
    "\"\"\".format(name5,father_name5,university)\n",
    "\n",
    "print(card1)\n",
    "print(card2)\n",
    "print(card3)\n",
    "print(card4)\n",
    "print(card5)"
   ]
  }
 ],
 "metadata": {
  "kernelspec": {
   "display_name": "Python 3",
   "language": "python",
   "name": "python3"
  },
  "language_info": {
   "codemirror_mode": {
    "name": "ipython",
    "version": 3
   },
   "file_extension": ".py",
   "mimetype": "text/x-python",
   "name": "python",
   "nbconvert_exporter": "python",
   "pygments_lexer": "ipython3",
   "version": "3.7.4"
  }
 },
 "nbformat": 4,
 "nbformat_minor": 2
}
